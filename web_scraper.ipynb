{
 "cells": [
  {
   "cell_type": "code",
   "execution_count": 211,
   "metadata": {},
   "outputs": [],
   "source": [
    "from selenium import webdriver\n",
    "from selenium.webdriver.common.by import By\n",
    "from selenium.webdriver.common.keys import Keys\n",
    "import time\n",
    "\n",
    "driver = webdriver.Chrome()  \n",
    "\n",
    "login_url = 'https://login.pwr.edu.pl/auth/realms/pwr.edu.pl/protocol/cas/login?service=https%3A%2F%2Fweb.usos.pwr.edu.pl%2Fkontroler.php%3F_action%3Dlogowaniecas%2Findex&locale=pl'\n",
    "driver.get(login_url)\n",
    "\n",
    "time.sleep(3) "
   ]
  },
  {
   "cell_type": "code",
   "execution_count": 212,
   "metadata": {},
   "outputs": [],
   "source": [
    "username_field = driver.find_element(By.NAME, 'username')\n",
    "password_field = driver.find_element(By.NAME, 'password')"
   ]
  },
  {
   "cell_type": "code",
   "execution_count": 213,
   "metadata": {},
   "outputs": [],
   "source": [
    "username_field.send_keys('') #your login to usos here\n",
    "password_field.send_keys('') #your password to usos here\n"
   ]
  },
  {
   "cell_type": "code",
   "execution_count": 214,
   "metadata": {},
   "outputs": [],
   "source": [
    "driver.find_element(By.NAME, 'login').click()"
   ]
  },
  {
   "cell_type": "code",
   "execution_count": 215,
   "metadata": {},
   "outputs": [],
   "source": [
    "#go to the class you want to scrape\n",
    "driver.get('https://web.usos.pwr.edu.pl/kontroler.php?_action=katalog2/przedmioty/pokazZajecia&zaj_cyk_id=72691&gr_nr=1')"
   ]
  },
  {
   "cell_type": "code",
   "execution_count": 216,
   "metadata": {},
   "outputs": [],
   "source": [
    "from sqlalchemy import create_engine, text\n",
    "\n",
    "# Database connection details\n",
    "USER = \"appuser\"\n",
    "PASSWORD = \"apppassword\"\n",
    "DATABASE_NAME = \"AttendMate\"\n",
    "DATABASE_URI = \"mysql+pymysql://{}:{}@localhost:3306/{}\".format(USER, PASSWORD, DATABASE_NAME)\n",
    "\n",
    "# Create the SQLAlchemy engine\n",
    "engine = create_engine(DATABASE_URI)\n"
   ]
  },
  {
   "cell_type": "code",
   "execution_count": 217,
   "metadata": {},
   "outputs": [
    {
     "name": "stdout",
     "output_type": "stream",
     "text": [
      "['Przedmiot:', 'Software Engineering [W04IST-SI4023P]']\n",
      "['Zajęcia:', 'Semestr zimowy 2024/25 [2024/25-Z] (w trakcie)\\nProjekt [P], grupa nr 1 [pozostałe grupy]']\n",
      "['Termin i miejsce:\\ninfo', 'każdy poniedziałek, 17:05 - 18:45\\nsala 127a\\nBudynek dydaktyczny [D-2] jaki jest adres?']\n",
      "['Terminy najbliższych spotkań:\\ninfo', '2025-02-04 17:05 : 18:45 sala 127a\\nBudynek dydaktyczny [D-2]\\nCzęść spotkań jest ukryta - pokaż terminy wszystkich spotkań.', '', '', '', '', '', '', '', '', '', '', '', '', '', '', '', '', '', '', '', '', '', '', '', '', '', '', '', '', '', '', '2025-02-04 17:05 : 18:45 sala 127a\\nBudynek dydaktyczny [D-2]', '']\n",
      "['', '']\n",
      "['', '']\n",
      "['', '']\n",
      "['', '']\n",
      "['', '']\n",
      "['', '']\n",
      "['', '']\n",
      "['', '']\n",
      "['', '']\n",
      "['', '']\n",
      "['', '']\n",
      "['', '']\n",
      "['', '']\n",
      "['', '']\n",
      "['', '']\n",
      "['2025-02-04 17:05 : 18:45 sala 127a\\nBudynek dydaktyczny [D-2]', '']\n",
      "['Liczba osób w grupie:', '15']\n",
      "['Limit miejsc:', '14']\n",
      "['Zaliczenie:', 'Zaliczenie']\n",
      "['Prowadzący:', 'Marek Krótkiewicz']\n",
      "['Moodle:', '(brak danych)']\n"
     ]
    }
   ],
   "source": [
    "#get class atributes\n",
    "table = driver.find_element(By.CLASS_NAME, \"grey\")  # Adjust the XPath if needed\n",
    "\n",
    "# Get all rows inside the table\n",
    "rows = table.find_elements(By.TAG_NAME, \"tr\")\n",
    "\n",
    "table_data = []\n",
    "for row in rows:\n",
    "    cells = row.find_elements(By.TAG_NAME, \"td\")  # Or use \"th\" for headers\n",
    "    table_data.append([cell.text for cell in cells])\n",
    "\n",
    "for row in table_data:\n",
    "    print(row)"
   ]
  },
  {
   "cell_type": "code",
   "execution_count": 218,
   "metadata": {},
   "outputs": [
    {
     "name": "stdout",
     "output_type": "stream",
     "text": [
      "project\n"
     ]
    }
   ],
   "source": [
    "subject = table_data[0][1].split()\n",
    "subject_name = subject[0]+\" \"+subject[1]\n",
    "class_code = subject[2][1:-1]\n",
    "class_type = table_data[1][1].split('\\n')[1].split(',')[0]\n",
    "\n",
    "def class_type_to_enum(class_type : str):\n",
    "    if class_type.lower().startswith(\"ćwiczenia\"):\n",
    "        return \"lab\"\n",
    "    if class_type.lower().startswith(\"wykład\"):\n",
    "        return \"lecture\"\n",
    "    if class_type.lower().startswith(\"seminarium\"):\n",
    "        return \"seminar\"\n",
    "    if class_type.lower().startswith(\"projekt\"):\n",
    "        return \"project\"\n",
    "\n",
    "class_type = class_type_to_enum(class_type)\n",
    "\n",
    "print(class_type)\n",
    "\n",
    "day = table_data[2][1].split()[1][0:-1]\n",
    "\n",
    "def polish_to_english_day(day):\n",
    "    if day == \"poniedziałek\":\n",
    "        return \"monday\"\n",
    "    if day == \"wtorek\":\n",
    "        return \"tuesday\"\n",
    "    if day == \"środa\":\n",
    "        return \"wednesday\"\n",
    "    if day == \"czwartek\":\n",
    "        return \"thursday\"\n",
    "    if day == \"piątek\":\n",
    "        return \"friday\"\n",
    "    if day == \"sobota\":\n",
    "        return \"saturday\"\n",
    "    if day == \"niedziela\":\n",
    "        return \"sunday\"\n",
    "\n",
    "day = polish_to_english_day(day)\n",
    "class_start_time = table_data[2][1].split()[2]\n",
    "room = table_data[2][1].split()[6]\n",
    "\n",
    "def add_class_to_database(subject_name, class_type, class_code, day, class_start_time, room):\n",
    "    with engine.begin() as connection:  # Ensures transactions are handled properly\n",
    "        query = text(\"SELECT * FROM class WHERE subjectNumber = :class_code\")\n",
    "        result = connection.execute(query, {\"class_code\": class_code})\n",
    "        existing_class = result.fetchone()  # Correct way to check if the class exists\n",
    "\n",
    "        if existing_class is None:\n",
    "            insert_query = text(\"\"\"INSERT INTO class (subjectName, subjectType, subjectNumber, year, semester, room, day, time, absenceLimit) \n",
    "                                   VALUES (:subject_name, :class_type, :class_code, '2024', '2', :room, :day, :time, 3)\"\"\")\n",
    "            connection.execute(insert_query, {\n",
    "                \"subject_name\": subject_name,\n",
    "                \"class_type\": class_type,\n",
    "                \"class_code\": class_code,\n",
    "                \"room\": room,\n",
    "                \"day\": day,\n",
    "                \"time\": class_start_time\n",
    "            })"
   ]
  },
  {
   "cell_type": "code",
   "execution_count": 164,
   "metadata": {},
   "outputs": [],
   "source": [
    "def add_student_to_database(first_name, last_name, email):\n",
    "    with engine.connect() as connection:\n",
    "        query = text(\"SELECT * FROM user WHERE email = :email\")\n",
    "        result = connection.execute(query, {\"email\": email})\n",
    "        if result.rowcount == 0:\n",
    "           with engine.begin() as connection:  # Automatically commits at the end\n",
    "                query = text(\"INSERT INTO user (name, lastName, email, password) VALUES (:first_name, :last_name, :email, 'NULL')\")\n",
    "                connection.execute(query, {\"first_name\": first_name, \"last_name\": last_name, \"email\": email})\n",
    "\n",
    "                query = text(\"INSERT INTO student (userID, studentNumber) values (LAST_INSERT_ID(), :student_number)\")\n",
    "                connection.execute(query, {\"student_number\": email[:6]})\n",
    "\n",
    "def add_student_to_course(classNumber, email):\n",
    "    with engine.connect() as connection:\n",
    "        query = text(\"SELECT * FROM user WHERE email = :email\")\n",
    "        result = connection.execute(query, {\"email\": email})\n",
    "        if result.rowcount == 1:\n",
    "            user_id = result.fetchone()[0]\n",
    "            query = text(\"SELECT * FROM student WHERE userID = :user_id\")\n",
    "            result = connection.execute(query, {\"user_id\": user_id})\n",
    "            if result.rowcount == 1:\n",
    "                student_id = result.fetchone()[0]\n",
    "                query = text(\"SELECT classID FROM class WHERE subjectNumber = :classNumber\")\n",
    "                result = connection.execute(query, {\"classNumber\": classNumber})\n",
    "                if result.rowcount == 1:\n",
    "                    course_id = result.fetchone()[0]\n",
    "                    with engine.begin() as connection:\n",
    "                        query = text(\"INSERT INTO studentsInClasses (classID, studentID) VALUES (:class_id, :student_id)\")\n",
    "                        connection.execute(query, {\"student_id\": student_id, \"class_id\": course_id})"
   ]
  },
  {
   "cell_type": "code",
   "execution_count": 153,
   "metadata": {},
   "outputs": [],
   "source": [
    "add_class_to_database(subject_name, class_type, class_code, day, class_start_time, room)"
   ]
  },
  {
   "cell_type": "code",
   "execution_count": 154,
   "metadata": {},
   "outputs": [
    {
     "name": "stdout",
     "output_type": "stream",
     "text": [
      "https://web.usos.pwr.edu.pl/kontroler.php?_action=katalog2/osoby/pokazOsobe&os_id=587778\n",
      "https://web.usos.pwr.edu.pl/kontroler.php?_action=katalog2/osoby/pokazOsobe&os_id=563113\n",
      "https://web.usos.pwr.edu.pl/kontroler.php?_action=katalog2/osoby/pokazOsobe&os_id=587785\n",
      "https://web.usos.pwr.edu.pl/kontroler.php?_action=katalog2/osoby/pokazOsobe&os_id=563126\n",
      "https://web.usos.pwr.edu.pl/kontroler.php?_action=katalog2/osoby/pokazOsobe&os_id=563131\n",
      "https://web.usos.pwr.edu.pl/kontroler.php?_action=katalog2/osoby/pokazOsobe&os_id=612638\n",
      "https://web.usos.pwr.edu.pl/kontroler.php?_action=katalog2/osoby/pokazOsobe&os_id=566991\n",
      "https://web.usos.pwr.edu.pl/kontroler.php?_action=katalog2/osoby/pokazOsobe&os_id=612634\n",
      "https://web.usos.pwr.edu.pl/kontroler.php?_action=katalog2/osoby/pokazOsobe&os_id=612609\n",
      "https://web.usos.pwr.edu.pl/kontroler.php?_action=katalog2/osoby/pokazOsobe&os_id=612623\n",
      "https://web.usos.pwr.edu.pl/kontroler.php?_action=katalog2/osoby/pokazOsobe&os_id=612628\n",
      "https://web.usos.pwr.edu.pl/kontroler.php?_action=katalog2/osoby/pokazOsobe&os_id=370742\n",
      "https://web.usos.pwr.edu.pl/kontroler.php?_action=katalog2/osoby/pokazOsobe&os_id=612629\n",
      "https://web.usos.pwr.edu.pl/kontroler.php?_action=katalog2/osoby/pokazOsobe&os_id=563121\n",
      "https://web.usos.pwr.edu.pl/kontroler.php?_action=katalog2/osoby/pokazOsobe&os_id=563122\n"
     ]
    }
   ],
   "source": [
    "elements = driver.find_elements(By.CLASS_NAME, \"wrgrey\")\n",
    "elements = [el.get_attribute(\"href\") for el in elements if \"osoby\" in el.get_attribute(\"href\")]\n",
    "\n",
    "for el in elements:\n",
    "    print(el)"
   ]
  },
  {
   "cell_type": "code",
   "execution_count": 155,
   "metadata": {},
   "outputs": [],
   "source": [
    "def parse_student(link):\n",
    "    driver.get(link)\n",
    "    time.sleep(1)\n",
    "    names = driver.find_elements(By.CLASS_NAME, \"uwb-clearfix\")\n",
    "    first_name = names[0].text.split()[1]\n",
    "    last_name = names[1].text.split()[1]\n",
    "    email = names[2].text\n",
    "    add_student_to_database(first_name, last_name, email)\n",
    "    add_student_to_course(class_code, email)\n",
    "    driver.back()"
   ]
  },
  {
   "cell_type": "code",
   "execution_count": 165,
   "metadata": {},
   "outputs": [],
   "source": [
    "for i in range(0, len(elements)):\n",
    "    #it might crash when it loads your profile, so you can put link to your profile here \n",
    "    if(elements[i] and elements[i]!= ''):\n",
    "        parse_student(elements[i])"
   ]
  },
  {
   "cell_type": "code",
   "execution_count": 191,
   "metadata": {},
   "outputs": [],
   "source": [
    "driver.find_element(By.CLASS_NAME, \"pokaz_wszystkie_daty\").click()"
   ]
  },
  {
   "cell_type": "code",
   "execution_count": 192,
   "metadata": {},
   "outputs": [],
   "source": [
    "table = driver.find_element(By.CLASS_NAME, \"grey\")  # Adjust the XPath if needed\n",
    "\n",
    "# Get all rows inside the table\n",
    "\n",
    "rows = table.find_elements(By.TAG_NAME, \"tr\")\n",
    "\n",
    "table_data = []\n",
    "for row in rows:\n",
    "    cells = row.find_elements(By.TAG_NAME, \"td\")  # Or use \"th\" for headers\n",
    "    table_data.append([cell.text for cell in cells])"
   ]
  },
  {
   "cell_type": "code",
   "execution_count": 194,
   "metadata": {},
   "outputs": [
    {
     "name": "stdout",
     "output_type": "stream",
     "text": [
      "['2024-10-07', '17:05', ':', '18:45']\n",
      "['2024-10-14', '17:05', ':', '18:45']\n",
      "['2024-10-21', '17:05', ':', '18:45']\n",
      "['2024-10-28', '17:05', ':', '18:45']\n",
      "['2024-11-04', '17:05', ':', '18:45']\n",
      "['2024-11-18', '17:05', ':', '18:45']\n",
      "['2024-11-25', '17:05', ':', '18:45']\n",
      "['2024-12-02', '17:05', ':', '18:45']\n",
      "['2024-12-09', '17:05', ':', '18:45']\n",
      "['2024-12-16', '17:05', ':', '18:45']\n",
      "['2025-01-13', '17:05', ':', '18:45']\n",
      "['2025-01-20', '17:05', ':', '18:45']\n",
      "['2025-01-27', '17:05', ':', '18:45']\n",
      "['2025-01-31', '17:05', ':', '18:45']\n",
      "['2025-02-04', '17:05', ':', '18:45']\n"
     ]
    }
   ],
   "source": [
    "import re\n",
    "\n",
    "for row in table_data:\n",
    "    d = re.match(r'^\\d{4}-\\d{2}-\\d{2} \\d{2}:\\d{2} : \\d{2}:\\d{2}',row[0])\n",
    "    if(d):\n",
    "        date = d.group(0).split()\n",
    "        print(date)\n",
    "        with engine.connect() as connection:\n",
    "            query = text(\"SELECT classID FROM class WHERE subjectNumber = :classNumber\")\n",
    "            result = connection.execute(query, {\"classNumber\": class_code})\n",
    "            if result.rowcount == 1:\n",
    "                course_id = result.fetchone()[0]\n",
    "                with engine.begin() as connection:\n",
    "                    query = text(\"INSERT INTO ClassSession (classID, sessionDate, sessionStartTime, sessionEndTime) VALUES (:class_id, :date, :start_time, :end_time)\")\n",
    "                    connection.execute(query, {\"class_id\": course_id, \"date\": date[0], \"start_time\": date[1], \"end_time\": date[3]})"
   ]
  },
  {
   "cell_type": "code",
   "execution_count": 219,
   "metadata": {},
   "outputs": [],
   "source": [
    "def add_teacher_to_database(first_name, last_name, email):\n",
    "    with engine.connect() as connection:\n",
    "        query = text(\"SELECT * FROM user WHERE email = :email\")\n",
    "        result = connection.execute(query, {\"email\": \"email\"})\n",
    "        if result.rowcount == 0:\n",
    "            with engine.begin() as connection:\n",
    "                query = text(\"INSERT INTO user (name, lastName, email, password) VALUES (:first_name, :last_name, :email, 'NULL')\")\n",
    "                connection.execute(query, {\"first_name\": first_name, \"last_name\": last_name, \"email\": email})\n",
    "\n",
    "                query = text(\"INSERT INTO teacher (userID) values (LAST_INSERT_ID())\")\n",
    "                connection.execute(query)\n",
    "\n",
    "def add_teacher_to_course(classNumber, email):\n",
    "    with engine.connect() as connection:\n",
    "        query = text(\"SELECT * FROM user WHERE email = :email\")\n",
    "        result = connection.execute(query, {\"email\": email})\n",
    "        if result.rowcount == 1:\n",
    "            user_id = result.fetchone()[0]\n",
    "            query = text(\"SELECT * FROM teacher WHERE userID = :user_id\")\n",
    "            result = connection.execute(query, {\"user_id\": user_id})\n",
    "            if result.rowcount == 1:\n",
    "                teacher_id = result.fetchone()[0]\n",
    "                query = text(\"SELECT classID FROM class WHERE subjectNumber = :classNumber\")\n",
    "                result = connection.execute(query, {\"classNumber\": classNumber})\n",
    "                if result.rowcount == 1:\n",
    "                    course_id = result.fetchone()[0]\n",
    "                    with engine.begin() as connection:\n",
    "                        query = text(\"INSERT INTO teachersInClasses (classID, teacherID) VALUES (:class_id, :teacher_id)\")\n",
    "                        connection.execute(query, {\"teacher_id\": teacher_id, \"class_id\": course_id})\n",
    "    "
   ]
  },
  {
   "cell_type": "code",
   "execution_count": 220,
   "metadata": {},
   "outputs": [
    {
     "name": "stdout",
     "output_type": "stream",
     "text": [
      "Lecturer's profile link: https://web.usos.pwr.edu.pl/kontroler.php?_action=katalog2/osoby/pokazOsobe&os_id=1644\n"
     ]
    }
   ],
   "source": [
    "tr_element = driver.find_element(By.XPATH, \"//tr[td[contains(text(), 'Prowadzący:')]]\")\n",
    "\n",
    "link_element = tr_element.find_element(By.XPATH, \".//td[2]/a\")\n",
    "\n",
    "href_value = link_element.get_attribute(\"href\")\n",
    "print(\"Lecturer's profile link:\", href_value)\n",
    "\n",
    "def parse_lecturer(link):\n",
    "    driver.get(link)\n",
    "    time.sleep(1)\n",
    "    names = driver.find_elements(By.CLASS_NAME, \"uwb-clearfix\")\n",
    "    first_name = names[0].text.split()[1]\n",
    "    last_name = names[1].text.split()[1]\n",
    "    email = names[3].text\n",
    "    add_teacher_to_database(first_name, last_name, email)\n",
    "    add_teacher_to_course(class_code, email)\n",
    "\n",
    "parse_lecturer(href_value)"
   ]
  }
 ],
 "metadata": {
  "kernelspec": {
   "display_name": ".venv",
   "language": "python",
   "name": "python3"
  },
  "language_info": {
   "codemirror_mode": {
    "name": "ipython",
    "version": 3
   },
   "file_extension": ".py",
   "mimetype": "text/x-python",
   "name": "python",
   "nbconvert_exporter": "python",
   "pygments_lexer": "ipython3",
   "version": "3.13.0"
  }
 },
 "nbformat": 4,
 "nbformat_minor": 2
}
